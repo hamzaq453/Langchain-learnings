{
  "nbformat": 4,
  "nbformat_minor": 0,
  "metadata": {
    "colab": {
      "provenance": [],
      "include_colab_link": true
    },
    "kernelspec": {
      "name": "python3",
      "display_name": "Python 3"
    },
    "language_info": {
      "name": "python"
    }
  },
  "cells": [
    {
      "cell_type": "markdown",
      "metadata": {
        "id": "view-in-github",
        "colab_type": "text"
      },
      "source": [
        "<a href=\"https://colab.research.google.com/github/hamzaq453/Langchain-learnings/blob/main/Chatbot_with_Neon_DB.ipynb\" target=\"_parent\"><img src=\"https://colab.research.google.com/assets/colab-badge.svg\" alt=\"Open In Colab\"/></a>"
      ]
    },
    {
      "cell_type": "markdown",
      "source": [
        "# Chatbot with message summarization & external DB memory\n",
        "\n",
        "## Review\n",
        "\n",
        "We've covered how to customize graph state schema and reducer.\n",
        "\n",
        "We've also shown a number of tricks for trimming or filtering messages in graph state.\n",
        "\n",
        "We've used these concepts in a Chatbot with memory that produces a running summary of the conversation.\n",
        "\n",
        "## Goals\n",
        "\n",
        "But, what if we want our Chatbot to have memory that persists indefinitely?\n",
        "\n",
        "Now, we'll introduce some more advanced checkpointers that support external databases.\n",
        "\n",
        "Here, we'll show how to use [Postgres as a checkpointer](https://langchain-ai.github.io/langgraph/how-tos/persistence_postgres/)"
      ],
      "metadata": {
        "id": "9iKKYdAkVoxu"
      }
    },
    {
      "cell_type": "code",
      "execution_count": null,
      "metadata": {
        "id": "Lwi6YkLu31aK"
      },
      "outputs": [],
      "source": [
        "%%capture --no-stderr\n",
        "%pip install -U langgraph langgraph-checkpoint-postgres psycopg psycopg-pool langchain_google_genai\n"
      ]
    },
    {
      "cell_type": "code",
      "source": [
        "from google.colab import userdata\n",
        "GEMINI_API_KEY = userdata.get('GEMINI_API_KEY')"
      ],
      "metadata": {
        "id": "i6Tn95wS4rxz"
      },
      "execution_count": null,
      "outputs": []
    },
    {
      "cell_type": "code",
      "source": [
        "import os\n",
        "os.environ[\"LANGCHAIN_API_KEY\"] = userdata.get('LANGCHAIN_API_KEY')\n",
        "os.environ[\"LANGCHAIN_TRACING_V2\"] = \"true\"\n",
        "os.environ[\"LANGCHAIN_PROJECT\"] = \"langchain-academy\""
      ],
      "metadata": {
        "id": "qtL0cG1B8pMt"
      },
      "execution_count": null,
      "outputs": []
    },
    {
      "cell_type": "markdown",
      "source": [
        "# Use sync connection¶\n",
        "This sets up a synchronous connection to the database.\n",
        "\n",
        "Synchronous connections execute operations in a blocking manner, meaning each operation waits for completion before moving to the next one. The DB_URI is the database connection URI, with the protocol used for connecting to a PostgreSQL database, authentication, and host where database is running. The connection_kwargs dictionary defines additional parameters for the database connection."
      ],
      "metadata": {
        "id": "AqAjciKmV6vl"
      }
    },
    {
      "cell_type": "code",
      "source": [
        "from google.colab import userdata\n",
        "DB_URL = userdata.get('DB_URI')"
      ],
      "metadata": {
        "id": "cP2TdPSB3-dO"
      },
      "execution_count": null,
      "outputs": []
    },
    {
      "cell_type": "code",
      "source": [
        "from psycopg_pool import ConnectionPool\n",
        "from langgraph.checkpoint.postgres import PostgresSaver\n",
        "\n",
        "# Connection pool for efficient database access\n",
        "connection_kwargs = {\"autocommit\": True, \"prepare_threshold\": 0}\n",
        "\n",
        "# Create a persistent connection pool\n",
        "pool = ConnectionPool(conninfo=DB_URL, max_size=20, kwargs=connection_kwargs)\n",
        "\n",
        "# Initialize PostgresSaver checkpointer\n",
        "checkpointer = PostgresSaver(pool)\n",
        "checkpointer.setup()  # Ensure database tables are set up\n"
      ],
      "metadata": {
        "id": "0XCqHjWM4LTc"
      },
      "execution_count": null,
      "outputs": []
    },
    {
      "cell_type": "markdown",
      "source": [
        "Let's re-define our chatbot."
      ],
      "metadata": {
        "id": "w9All8mCV1o0"
      }
    },
    {
      "cell_type": "code",
      "source": [
        "from langchain_google_genai import ChatGoogleGenerativeAI\n",
        "from langchain_core.messages import SystemMessage, HumanMessage, RemoveMessage\n",
        "\n",
        "from langgraph.graph import END\n",
        "from langgraph.graph import MessagesState\n",
        "\n",
        "model: ChatGoogleGenerativeAI = ChatGoogleGenerativeAI(model = \"gemini-1.5-flash\", api_key =  GEMINI_API_KEY)\n",
        "\n",
        "class State(MessagesState):\n",
        "    summary: str\n",
        "\n",
        "# Define the logic to call the model\n",
        "def call_model(state: State) -> State:\n",
        "\n",
        "    # Get summary if it exists\n",
        "    summary = state.get(\"summary\", \"\")\n",
        "    print(f\"Using summary: {summary}\")\n",
        "\n",
        "    # If there is summary, then we add it\n",
        "    if summary:\n",
        "\n",
        "        # Add summary to system message\n",
        "        system_message = f\"Summary of conversation earlier: {summary}\"\n",
        "\n",
        "        # Append summary to any newer messages\n",
        "        messages = [SystemMessage(content=system_message)] + state[\"messages\"]\n",
        "\n",
        "    else:\n",
        "        messages = state[\"messages\"]\n",
        "\n",
        "    response = model.invoke(messages)\n",
        "    return {\"messages\": response}\n",
        "\n",
        "def summarize_conversation(state: State) -> State:\n",
        "    print(f\"Messages before summarizing: {len(state['messages'])}\")\n",
        "    # First, we get any existing summary\n",
        "    summary = state.get(\"summary\", \"\")\n",
        "    print(f\"Existing summary: {summary}\")\n",
        "\n",
        "    # Create our summarization prompt\n",
        "    if summary:\n",
        "\n",
        "        # A summary already exists\n",
        "        summary_message = (\n",
        "            f\"This is summary of the conversation to date: {summary}\\n\\n\"\n",
        "            \"Extend the summary by taking into account the new messages above:\"\n",
        "        )\n",
        "\n",
        "    else:\n",
        "        summary_message = \"Create a summary of the conversation above:\"\n",
        "\n",
        "\n",
        "    # Add prompt to our history\n",
        "    messages = state[\"messages\"] + [HumanMessage(content=summary_message)]\n",
        "    response = model.invoke(messages)\n",
        "    # Summarization logic\n",
        "    print(f\"New summary: {response.content}\")\n",
        "\n",
        "    # Delete all but the 2 most recent messages\n",
        "    delete_messages = [RemoveMessage(id=m.id) for m in state[\"messages\"][:-2]]\n",
        "\n",
        "    print(f\"Messages after truncation: {len(delete_messages)}\")\n",
        "    return {\"summary\": response.content, \"messages\": delete_messages}\n",
        "\n",
        "# Determine whether to end or summarize the conversation\n",
        "def should_continue(state: State) -> State:\n",
        "\n",
        "    \"\"\"Return the next node to execute.\"\"\"\n",
        "\n",
        "    messages = state[\"messages\"]\n",
        "    print(f\"Message count: {len(messages)}\")\n",
        "    # If there are more than six messages, then we summarize the conversation\n",
        "    if len(messages) > 6:\n",
        "        return \"summarize_conversation\"\n",
        "\n",
        "    # Otherwise we can just end\n",
        "    return END"
      ],
      "metadata": {
        "id": "kvU-4FnS4Wxu"
      },
      "execution_count": null,
      "outputs": []
    },
    {
      "cell_type": "markdown",
      "source": [
        "Now, we just re-compile with our postgres checkpointer."
      ],
      "metadata": {
        "id": "zzIVvGsXWap4"
      }
    },
    {
      "cell_type": "code",
      "source": [
        "from langgraph.graph import StateGraph, START, END\n",
        "from langgraph.graph.state import CompiledStateGraph\n",
        "\n",
        "# Redefine workflow\n",
        "workflow = StateGraph(State)\n",
        "workflow.add_node(\"conversation\", call_model)\n",
        "workflow.add_node(summarize_conversation)\n",
        "\n",
        "workflow.add_edge(START, \"conversation\")\n",
        "workflow.add_conditional_edges(\"conversation\", should_continue)\n",
        "workflow.add_edge(\"summarize_conversation\", END)\n",
        "\n",
        "# Compile the workflow with PostgreSQL checkpointer\n",
        "graph = workflow.compile(checkpointer=checkpointer)\n"
      ],
      "metadata": {
        "id": "d7wrnazV4mdo"
      },
      "execution_count": null,
      "outputs": []
    },
    {
      "cell_type": "markdown",
      "source": [
        "Now, we can invoke the graph several times."
      ],
      "metadata": {
        "id": "C_KTIXuvWkT0"
      }
    },
    {
      "cell_type": "code",
      "source": [
        "# Configuration for thread\n",
        "config = {\"configurable\": {\"thread_id\": \"1\"}}\n",
        "\n",
        "# Start a conversation\n",
        "input_message = HumanMessage(content=\"hi! I'm Hamza\")\n",
        "output = graph.invoke({\"messages\": [input_message]}, config)\n",
        "for m in output['messages'][-1:]:\n",
        "    m.pretty_print()\n",
        "\n",
        "# Check the persisted state\n",
        "graph_state = graph.get_state(config)\n",
        "graph_state"
      ],
      "metadata": {
        "colab": {
          "base_uri": "https://localhost:8080/"
        },
        "id": "Wk129iSWZapB",
        "outputId": "2dd32e26-9ee6-4b91-cdbc-4a407ae963c8"
      },
      "execution_count": null,
      "outputs": [
        {
          "output_type": "stream",
          "name": "stdout",
          "text": [
            "Using summary: \n",
            "Message count: 2\n",
            "==================================\u001b[1m Ai Message \u001b[0m==================================\n",
            "\n",
            "Hi Hamza!  It's nice to meet you. How can I help you today?\n"
          ]
        },
        {
          "output_type": "execute_result",
          "data": {
            "text/plain": [
              "StateSnapshot(values={'messages': [HumanMessage(content=\"hi! I'm Hamza\", additional_kwargs={}, response_metadata={}, id='c0d209c2-b19a-4d6a-8531-220ea8970fea'), AIMessage(content=\"Hi Hamza!  It's nice to meet you. How can I help you today?\", additional_kwargs={}, response_metadata={'prompt_feedback': {'block_reason': 0, 'safety_ratings': []}, 'finish_reason': 'STOP', 'safety_ratings': []}, id='run-0c4d73f1-7800-4d69-af13-1dbaa0585d51-0', usage_metadata={'input_tokens': 7, 'output_tokens': 20, 'total_tokens': 27, 'input_token_details': {'cache_read': 0}})]}, next=(), config={'configurable': {'thread_id': '1', 'checkpoint_ns': '', 'checkpoint_id': '1efcf14d-fb0d-627f-8001-750da57c9919'}}, metadata={'step': 1, 'source': 'loop', 'writes': {'conversation': {'messages': AIMessage(content=\"Hi Hamza!  It's nice to meet you. How can I help you today?\", additional_kwargs={}, response_metadata={'finish_reason': 'STOP', 'safety_ratings': [], 'prompt_feedback': {'block_reason': 0, 'safety_ratings': []}}, id='run-0c4d73f1-7800-4d69-af13-1dbaa0585d51-0', usage_metadata={'input_tokens': 7, 'output_tokens': 20, 'total_tokens': 27, 'input_token_details': {'cache_read': 0}})}}, 'parents': {}, 'thread_id': '1'}, created_at='2025-01-10T05:36:43.097717+00:00', parent_config={'configurable': {'thread_id': '1', 'checkpoint_ns': '', 'checkpoint_id': '1efcf14d-f6ca-6987-8000-0d0c17badba6'}}, tasks=())"
            ]
          },
          "metadata": {},
          "execution_count": 10
        }
      ]
    },
    {
      "cell_type": "code",
      "source": [
        "# Configuration for thread\n",
        "config = {\"configurable\": {\"thread_id\": \"1\"}}\n",
        "\n",
        "# Start a conversation\n",
        "input_message = HumanMessage(content=\"I like Coding.\")\n",
        "output = graph.invoke({\"messages\": [input_message]}, config)\n",
        "for m in output['messages'][-1:]:\n",
        "    m.pretty_print()\n",
        "\n",
        "# Check the persisted state\n",
        "graph_state = graph.get_state(config)\n",
        "graph_state"
      ],
      "metadata": {
        "colab": {
          "base_uri": "https://localhost:8080/"
        },
        "id": "HxWCVPkuZvf-",
        "outputId": "de909712-a01f-47b3-9e9e-3f9b5aec95d1"
      },
      "execution_count": null,
      "outputs": [
        {
          "output_type": "stream",
          "name": "stdout",
          "text": [
            "Using summary: \n",
            "Message count: 4\n",
            "==================================\u001b[1m Ai Message \u001b[0m==================================\n",
            "\n",
            "That's great!  What kind of coding do you enjoy or are you interested in learning?  Knowing that will help me give you more specific and helpful information.  For example, are you interested in web development, game development, mobile app development, data science, or something else?\n"
          ]
        },
        {
          "output_type": "execute_result",
          "data": {
            "text/plain": [
              "StateSnapshot(values={'messages': [HumanMessage(content=\"hi! I'm Hamza\", additional_kwargs={}, response_metadata={}, id='c0d209c2-b19a-4d6a-8531-220ea8970fea'), AIMessage(content=\"Hi Hamza!  It's nice to meet you. How can I help you today?\", additional_kwargs={}, response_metadata={'prompt_feedback': {'block_reason': 0, 'safety_ratings': []}, 'finish_reason': 'STOP', 'safety_ratings': []}, id='run-0c4d73f1-7800-4d69-af13-1dbaa0585d51-0', usage_metadata={'input_tokens': 7, 'output_tokens': 20, 'total_tokens': 27, 'input_token_details': {'cache_read': 0}}), HumanMessage(content='I like Coding.', additional_kwargs={}, response_metadata={}, id='2ff38200-4438-44b1-87ba-015360a1bb38'), AIMessage(content=\"That's great!  What kind of coding do you enjoy or are you interested in learning?  Knowing that will help me give you more specific and helpful information.  For example, are you interested in web development, game development, mobile app development, data science, or something else?\", additional_kwargs={}, response_metadata={'prompt_feedback': {'block_reason': 0, 'safety_ratings': []}, 'finish_reason': 'STOP', 'safety_ratings': []}, id='run-7580af51-fa0b-4198-aa13-721d3d168262-0', usage_metadata={'input_tokens': 32, 'output_tokens': 60, 'total_tokens': 92, 'input_token_details': {'cache_read': 0}})]}, next=(), config={'configurable': {'thread_id': '1', 'checkpoint_ns': '', 'checkpoint_id': '1efcf14e-f3cd-621e-8004-12c71e5c68fa'}}, metadata={'step': 4, 'source': 'loop', 'writes': {'conversation': {'messages': AIMessage(content=\"That's great!  What kind of coding do you enjoy or are you interested in learning?  Knowing that will help me give you more specific and helpful information.  For example, are you interested in web development, game development, mobile app development, data science, or something else?\", additional_kwargs={}, response_metadata={'finish_reason': 'STOP', 'safety_ratings': [], 'prompt_feedback': {'block_reason': 0, 'safety_ratings': []}}, id='run-7580af51-fa0b-4198-aa13-721d3d168262-0', usage_metadata={'input_tokens': 32, 'output_tokens': 60, 'total_tokens': 92, 'input_token_details': {'cache_read': 0}})}}, 'parents': {}, 'thread_id': '1'}, created_at='2025-01-10T05:37:09.181040+00:00', parent_config={'configurable': {'thread_id': '1', 'checkpoint_ns': '', 'checkpoint_id': '1efcf14e-ed4f-6448-8003-72ca21faf11f'}}, tasks=())"
            ]
          },
          "metadata": {},
          "execution_count": 11
        }
      ]
    },
    {
      "cell_type": "code",
      "source": [
        "# Configuration for thread\n",
        "config = {\"configurable\": {\"thread_id\": \"1\"}}\n",
        "\n",
        "# Start a conversation\n",
        "input_message = HumanMessage(content=\"What's my name and what do i like to do ?\")\n",
        "output = graph.invoke({\"messages\": [input_message]}, config)\n",
        "for m in output['messages'][-1:]:\n",
        "    m.pretty_print()\n",
        "\n",
        "# Check the persisted state\n",
        "graph_state = graph.get_state(config)\n",
        "graph_state"
      ],
      "metadata": {
        "colab": {
          "base_uri": "https://localhost:8080/"
        },
        "id": "HxLLjBiBfZAL",
        "outputId": "b2423c7c-c324-4fa8-922e-4bac40bc81ca"
      },
      "execution_count": null,
      "outputs": [
        {
          "output_type": "stream",
          "name": "stdout",
          "text": [
            "Using summary: \n",
            "Message count: 6\n",
            "==================================\u001b[1m Ai Message \u001b[0m==================================\n",
            "\n",
            "Your name is Hamza, and you like coding.\n"
          ]
        },
        {
          "output_type": "execute_result",
          "data": {
            "text/plain": [
              "StateSnapshot(values={'messages': [HumanMessage(content=\"hi! I'm Hamza\", additional_kwargs={}, response_metadata={}, id='c0d209c2-b19a-4d6a-8531-220ea8970fea'), AIMessage(content=\"Hi Hamza!  It's nice to meet you. How can I help you today?\", additional_kwargs={}, response_metadata={'prompt_feedback': {'block_reason': 0, 'safety_ratings': []}, 'finish_reason': 'STOP', 'safety_ratings': []}, id='run-0c4d73f1-7800-4d69-af13-1dbaa0585d51-0', usage_metadata={'input_tokens': 7, 'output_tokens': 20, 'total_tokens': 27, 'input_token_details': {'cache_read': 0}}), HumanMessage(content='I like Coding.', additional_kwargs={}, response_metadata={}, id='2ff38200-4438-44b1-87ba-015360a1bb38'), AIMessage(content=\"That's great!  What kind of coding do you enjoy or are you interested in learning?  Knowing that will help me give you more specific and helpful information.  For example, are you interested in web development, game development, mobile app development, data science, or something else?\", additional_kwargs={}, response_metadata={'prompt_feedback': {'block_reason': 0, 'safety_ratings': []}, 'finish_reason': 'STOP', 'safety_ratings': []}, id='run-7580af51-fa0b-4198-aa13-721d3d168262-0', usage_metadata={'input_tokens': 32, 'output_tokens': 60, 'total_tokens': 92, 'input_token_details': {'cache_read': 0}}), HumanMessage(content=\"What's my name and what do i like to do ?\", additional_kwargs={}, response_metadata={}, id='d8287fcb-7cd2-4dc3-8621-efdd84a9b831'), AIMessage(content='Your name is Hamza, and you like coding.', additional_kwargs={}, response_metadata={'prompt_feedback': {'block_reason': 0, 'safety_ratings': []}, 'finish_reason': 'STOP', 'safety_ratings': []}, id='run-3caca8bb-3476-4652-ad1a-d04589ac2a0d-0', usage_metadata={'input_tokens': 106, 'output_tokens': 11, 'total_tokens': 117, 'input_token_details': {'cache_read': 0}})]}, next=(), config={'configurable': {'thread_id': '1', 'checkpoint_ns': '', 'checkpoint_id': '1efcf14f-d11e-6a4c-8007-aaba7f8b97b0'}}, metadata={'step': 7, 'source': 'loop', 'writes': {'conversation': {'messages': AIMessage(content='Your name is Hamza, and you like coding.', additional_kwargs={}, response_metadata={'finish_reason': 'STOP', 'safety_ratings': [], 'prompt_feedback': {'block_reason': 0, 'safety_ratings': []}}, id='run-3caca8bb-3476-4652-ad1a-d04589ac2a0d-0', usage_metadata={'input_tokens': 106, 'output_tokens': 11, 'total_tokens': 117, 'input_token_details': {'cache_read': 0}})}}, 'parents': {}, 'thread_id': '1'}, created_at='2025-01-10T05:37:32.387972+00:00', parent_config={'configurable': {'thread_id': '1', 'checkpoint_ns': '', 'checkpoint_id': '1efcf14f-cdd5-633a-8006-1a0502e1d0f5'}}, tasks=())"
            ]
          },
          "metadata": {},
          "execution_count": 12
        }
      ]
    },
    {
      "cell_type": "code",
      "source": [
        "# Configuration for thread\n",
        "config = {\"configurable\": {\"thread_id\": \"1\"}}\n",
        "\n",
        "# Start a conversation\n",
        "input_message = HumanMessage(content=\"Can you describe about abstract paintings?\")\n",
        "output = graph.invoke({\"messages\": [input_message]}, config)\n",
        "for m in output['messages'][-1:]:\n",
        "    m.pretty_print()\n",
        "\n",
        "# Check the persisted state\n",
        "graph_state = graph.get_state(config)\n",
        "graph_state"
      ],
      "metadata": {
        "colab": {
          "base_uri": "https://localhost:8080/"
        },
        "id": "iygDZ-_xhsQW",
        "outputId": "01d3ad9e-3ec9-4e55-e7f9-003f68041a49"
      },
      "execution_count": null,
      "outputs": [
        {
          "output_type": "stream",
          "name": "stdout",
          "text": [
            "Using summary: \n",
            "Message count: 8\n",
            "Messages before summarizing: 8\n",
            "Existing summary: \n",
            "New summary: The conversation began with an introduction where I identified myself as an AI and Hamza introduced himself.  Hamza stated his interest in coding.  I then asked him questions to better understand his coding interests.  Finally, Hamza asked me to describe abstract paintings, which I did, providing a detailed explanation of its characteristics and styles.\n",
            "Messages after truncation: 6\n",
            "==================================\u001b[1m Ai Message \u001b[0m==================================\n",
            "\n",
            "Abstract painting is a genre of art that doesn't attempt to represent an accurate depiction of visual reality but instead uses shapes, colours, forms, and gestural marks to achieve its effect.  It's about expressing ideas and emotions through visual language rather than literal representation.\n",
            "\n",
            "Here are some key characteristics of abstract painting:\n",
            "\n",
            "* **Non-representational:**  Unlike realistic or figurative art, abstract paintings don't depict recognizable objects or scenes.  The focus is on the elements of art themselves – line, color, shape, texture, and composition.\n",
            "\n",
            "* **Emphasis on form and color:**  The visual elements are used to create mood, evoke feelings, or explore visual concepts.  Color choices can be highly significant, conveying emotion or creating visual tension.\n",
            "\n",
            "* **Variety of styles:**  Abstract art encompasses a wide range of styles, from the geometric precision of Mondrian to the gestural dynamism of Pollock.  Some abstract works might be highly structured and planned, while others might be more spontaneous and intuitive.\n",
            "\n",
            "* **Subjectivity:**  The meaning of an abstract painting is often open to interpretation.  The artist may have a specific intention, but the viewer is free to respond to the work in their own way.  This subjective nature is a key element of the genre.\n",
            "\n",
            "* **Evolution:** Abstract art evolved throughout the 20th century and continues to evolve today.  It's a rich and diverse field with many different movements and artists contributing to its development.  Examples include Cubism, Surrealism, Abstract Expressionism, Minimalism, and many more.\n",
            "\n",
            "\n",
            "In short, abstract painting is a powerful and expressive form of art that allows artists to explore the fundamental elements of visual language and communicate ideas beyond literal representation.\n"
          ]
        },
        {
          "output_type": "execute_result",
          "data": {
            "text/plain": [
              "StateSnapshot(values={'messages': [HumanMessage(content='Can you describe about abstract paintings?', additional_kwargs={}, response_metadata={}, id='5d424981-dce5-4c5e-89f5-5d6f56506afe'), AIMessage(content=\"Abstract painting is a genre of art that doesn't attempt to represent an accurate depiction of visual reality but instead uses shapes, colours, forms, and gestural marks to achieve its effect.  It's about expressing ideas and emotions through visual language rather than literal representation.\\n\\nHere are some key characteristics of abstract painting:\\n\\n* **Non-representational:**  Unlike realistic or figurative art, abstract paintings don't depict recognizable objects or scenes.  The focus is on the elements of art themselves – line, color, shape, texture, and composition.\\n\\n* **Emphasis on form and color:**  The visual elements are used to create mood, evoke feelings, or explore visual concepts.  Color choices can be highly significant, conveying emotion or creating visual tension.\\n\\n* **Variety of styles:**  Abstract art encompasses a wide range of styles, from the geometric precision of Mondrian to the gestural dynamism of Pollock.  Some abstract works might be highly structured and planned, while others might be more spontaneous and intuitive.\\n\\n* **Subjectivity:**  The meaning of an abstract painting is often open to interpretation.  The artist may have a specific intention, but the viewer is free to respond to the work in their own way.  This subjective nature is a key element of the genre.\\n\\n* **Evolution:** Abstract art evolved throughout the 20th century and continues to evolve today.  It's a rich and diverse field with many different movements and artists contributing to its development.  Examples include Cubism, Surrealism, Abstract Expressionism, Minimalism, and many more.\\n\\n\\nIn short, abstract painting is a powerful and expressive form of art that allows artists to explore the fundamental elements of visual language and communicate ideas beyond literal representation.\", additional_kwargs={}, response_metadata={'prompt_feedback': {'block_reason': 0, 'safety_ratings': []}, 'finish_reason': 'STOP', 'safety_ratings': []}, id='run-b9cb3665-2b91-47e9-88c7-7cc48a016bed-0', usage_metadata={'input_tokens': 125, 'output_tokens': 357, 'total_tokens': 482, 'input_token_details': {'cache_read': 0}})], 'summary': 'The conversation began with an introduction where I identified myself as an AI and Hamza introduced himself.  Hamza stated his interest in coding.  I then asked him questions to better understand his coding interests.  Finally, Hamza asked me to describe abstract paintings, which I did, providing a detailed explanation of its characteristics and styles.'}, next=(), config={'configurable': {'thread_id': '1', 'checkpoint_ns': '', 'checkpoint_id': '1efcf150-62c3-6047-800b-088e3536082e'}}, metadata={'step': 11, 'source': 'loop', 'writes': {'summarize_conversation': {'summary': 'The conversation began with an introduction where I identified myself as an AI and Hamza introduced himself.  Hamza stated his interest in coding.  I then asked him questions to better understand his coding interests.  Finally, Hamza asked me to describe abstract paintings, which I did, providing a detailed explanation of its characteristics and styles.', 'messages': [RemoveMessage(content='', additional_kwargs={}, response_metadata={}, id='c0d209c2-b19a-4d6a-8531-220ea8970fea'), RemoveMessage(content='', additional_kwargs={}, response_metadata={}, id='run-0c4d73f1-7800-4d69-af13-1dbaa0585d51-0'), RemoveMessage(content='', additional_kwargs={}, response_metadata={}, id='2ff38200-4438-44b1-87ba-015360a1bb38'), RemoveMessage(content='', additional_kwargs={}, response_metadata={}, id='run-7580af51-fa0b-4198-aa13-721d3d168262-0'), RemoveMessage(content='', additional_kwargs={}, response_metadata={}, id='d8287fcb-7cd2-4dc3-8621-efdd84a9b831'), RemoveMessage(content='', additional_kwargs={}, response_metadata={}, id='run-3caca8bb-3476-4652-ad1a-d04589ac2a0d-0')]}}, 'parents': {}, 'thread_id': '1'}, created_at='2025-01-10T05:37:47.659644+00:00', parent_config={'configurable': {'thread_id': '1', 'checkpoint_ns': '', 'checkpoint_id': '1efcf150-5b53-6239-800a-84046e45edfc'}}, tasks=())"
            ]
          },
          "metadata": {},
          "execution_count": 13
        }
      ]
    },
    {
      "cell_type": "markdown",
      "source": [],
      "metadata": {
        "id": "gFqFzWDrWnt5"
      }
    },
    {
      "cell_type": "code",
      "source": [
        "# Retrieve state using thread ID\n",
        "config = {\"configurable\": {\"thread_id\": \"1\"}}\n",
        "graph_state = graph.get_state(config)\n",
        "graph_state"
      ],
      "metadata": {
        "colab": {
          "base_uri": "https://localhost:8080/"
        },
        "id": "Cmwlf-TFYQqH",
        "outputId": "08a5bb17-eb5f-4d42-ab9b-63499be16ec6"
      },
      "execution_count": null,
      "outputs": [
        {
          "output_type": "execute_result",
          "data": {
            "text/plain": [
              "StateSnapshot(values={'messages': [HumanMessage(content='Can you describe about abstract paintings?', additional_kwargs={}, response_metadata={}, id='5d424981-dce5-4c5e-89f5-5d6f56506afe'), AIMessage(content=\"Abstract painting is a genre of art that doesn't attempt to represent an accurate depiction of visual reality but instead uses shapes, colours, forms, and gestural marks to achieve its effect.  It's about expressing ideas and emotions through visual language rather than literal representation.\\n\\nHere are some key characteristics of abstract painting:\\n\\n* **Non-representational:**  Unlike realistic or figurative art, abstract paintings don't depict recognizable objects or scenes.  The focus is on the elements of art themselves – line, color, shape, texture, and composition.\\n\\n* **Emphasis on form and color:**  The visual elements are used to create mood, evoke feelings, or explore visual concepts.  Color choices can be highly significant, conveying emotion or creating visual tension.\\n\\n* **Variety of styles:**  Abstract art encompasses a wide range of styles, from the geometric precision of Mondrian to the gestural dynamism of Pollock.  Some abstract works might be highly structured and planned, while others might be more spontaneous and intuitive.\\n\\n* **Subjectivity:**  The meaning of an abstract painting is often open to interpretation.  The artist may have a specific intention, but the viewer is free to respond to the work in their own way.  This subjective nature is a key element of the genre.\\n\\n* **Evolution:** Abstract art evolved throughout the 20th century and continues to evolve today.  It's a rich and diverse field with many different movements and artists contributing to its development.  Examples include Cubism, Surrealism, Abstract Expressionism, Minimalism, and many more.\\n\\n\\nIn short, abstract painting is a powerful and expressive form of art that allows artists to explore the fundamental elements of visual language and communicate ideas beyond literal representation.\", additional_kwargs={}, response_metadata={'prompt_feedback': {'block_reason': 0, 'safety_ratings': []}, 'finish_reason': 'STOP', 'safety_ratings': []}, id='run-b9cb3665-2b91-47e9-88c7-7cc48a016bed-0', usage_metadata={'input_tokens': 125, 'output_tokens': 357, 'total_tokens': 482, 'input_token_details': {'cache_read': 0}})], 'summary': 'The conversation began with an introduction where I identified myself as an AI and Hamza introduced himself.  Hamza stated his interest in coding.  I then asked him questions to better understand his coding interests.  Finally, Hamza asked me to describe abstract paintings, which I did, providing a detailed explanation of its characteristics and styles.'}, next=(), config={'configurable': {'thread_id': '1', 'checkpoint_ns': '', 'checkpoint_id': '1efcf150-62c3-6047-800b-088e3536082e'}}, metadata={'step': 11, 'source': 'loop', 'writes': {'summarize_conversation': {'summary': 'The conversation began with an introduction where I identified myself as an AI and Hamza introduced himself.  Hamza stated his interest in coding.  I then asked him questions to better understand his coding interests.  Finally, Hamza asked me to describe abstract paintings, which I did, providing a detailed explanation of its characteristics and styles.', 'messages': [RemoveMessage(content='', additional_kwargs={}, response_metadata={}, id='c0d209c2-b19a-4d6a-8531-220ea8970fea'), RemoveMessage(content='', additional_kwargs={}, response_metadata={}, id='run-0c4d73f1-7800-4d69-af13-1dbaa0585d51-0'), RemoveMessage(content='', additional_kwargs={}, response_metadata={}, id='2ff38200-4438-44b1-87ba-015360a1bb38'), RemoveMessage(content='', additional_kwargs={}, response_metadata={}, id='run-7580af51-fa0b-4198-aa13-721d3d168262-0'), RemoveMessage(content='', additional_kwargs={}, response_metadata={}, id='d8287fcb-7cd2-4dc3-8621-efdd84a9b831'), RemoveMessage(content='', additional_kwargs={}, response_metadata={}, id='run-3caca8bb-3476-4652-ad1a-d04589ac2a0d-0')]}}, 'parents': {}, 'thread_id': '1'}, created_at='2025-01-10T05:37:47.659644+00:00', parent_config={'configurable': {'thread_id': '1', 'checkpoint_ns': '', 'checkpoint_id': '1efcf150-5b53-6239-800a-84046e45edfc'}}, tasks=())"
            ]
          },
          "metadata": {},
          "execution_count": 8
        }
      ]
    },
    {
      "cell_type": "code",
      "source": [
        "pool.close()"
      ],
      "metadata": {
        "id": "d_YbgTBs89_o"
      },
      "execution_count": null,
      "outputs": []
    },
    {
      "cell_type": "markdown",
      "source": [
        "### Persisting state\n",
        "\n",
        "Using database like Postgres means state is persisted!\n",
        "\n",
        "For example, we can re-start the notebook kernel and see that we can still load from Postgres DB on disk.\n"
      ],
      "metadata": {
        "id": "Io-K7MCWinYF"
      }
    }
  ]
}