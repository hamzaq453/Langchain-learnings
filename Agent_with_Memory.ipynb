{
  "nbformat": 4,
  "nbformat_minor": 0,
  "metadata": {
    "colab": {
      "provenance": [],
      "authorship_tag": "ABX9TyPetJ0uV9QvQJ+DlOHChrZ/",
      "include_colab_link": true
    },
    "kernelspec": {
      "name": "python3",
      "display_name": "Python 3"
    },
    "language_info": {
      "name": "python"
    }
  },
  "cells": [
    {
      "cell_type": "markdown",
      "metadata": {
        "id": "view-in-github",
        "colab_type": "text"
      },
      "source": [
        "<a href=\"https://colab.research.google.com/github/hamzaq453/Langchain-learnings/blob/main/Agent_with_Memory.ipynb\" target=\"_parent\"><img src=\"https://colab.research.google.com/assets/colab-badge.svg\" alt=\"Open In Colab\"/></a>"
      ]
    },
    {
      "cell_type": "code",
      "source": [
        "!pip install -q -U langchain_google_genai langchain_core langgraph\n"
      ],
      "metadata": {
        "id": "1GA2Va9xZi2Q"
      },
      "execution_count": 25,
      "outputs": []
    },
    {
      "cell_type": "code",
      "source": [
        "from langchain_google_genai import ChatGoogleGenerativeAI\n",
        "from langgraph.graph import StateGraph, MessagesState, START\n",
        "from langgraph.prebuilt import tools_condition, ToolNode\n",
        "from langchain_core.messages import HumanMessage, SystemMessage\n",
        "from langgraph.checkpoint.memory import MemorySaver\n",
        "from IPython.display import Image, display\n",
        "\n",
        "# Set up the Gemini API key\n",
        "from google.colab import userdata\n",
        "GEMINI_API_KEY = userdata.get('GEMINI_API_KEY')\n",
        "\n",
        "# Initialize the LLM\n",
        "llm = ChatGoogleGenerativeAI(model=\"gemini-1.5-flash\", api_key=GEMINI_API_KEY)\n"
      ],
      "metadata": {
        "id": "HRKs5ZB-ZmwO"
      },
      "execution_count": 26,
      "outputs": []
    },
    {
      "cell_type": "code",
      "source": [
        "# Tool 1: Add\n",
        "def add(a: int, b: int) -> int:\n",
        "    \"\"\"\n",
        "    Adds two numbers.\n",
        "    Args:\n",
        "        a (int): First number.\n",
        "        b (int): Second number.\n",
        "    Returns:\n",
        "        int: Sum of a and b.\n",
        "    \"\"\"\n",
        "    return a + b\n",
        "\n",
        "# Tool 2: Multiply\n",
        "def multiply(a: int, b: int) -> int:\n",
        "    \"\"\"\n",
        "    Multiplies two numbers.\n",
        "    Args:\n",
        "        a (int): First number.\n",
        "        b (int): Second number.\n",
        "    Returns:\n",
        "        int: Product of a and b.\n",
        "    \"\"\"\n",
        "    return a * b\n",
        "\n",
        "# Tool 3: Divide\n",
        "def divide(a: int, b: int) -> float:\n",
        "    \"\"\"\n",
        "    Divides two numbers.\n",
        "    Args:\n",
        "        a (int): Numerator.\n",
        "        b (int): Denominator.\n",
        "    Returns:\n",
        "        float: Quotient of a and b.\n",
        "    \"\"\"\n",
        "    if b == 0:\n",
        "        raise ValueError(\"Division by zero is not allowed.\")\n",
        "    return a / b\n",
        "\n",
        "# Bind the tools to the LLM\n",
        "tools = [add, multiply, divide]\n",
        "llm_with_tools = llm.bind_tools(tools)\n"
      ],
      "metadata": {
        "id": "NBH2YdjBZpkA"
      },
      "execution_count": 27,
      "outputs": []
    },
    {
      "cell_type": "code",
      "source": [
        "# System message for the assistant\n",
        "sys_msg = SystemMessage(content=\"You are a helpful assistant that performs arithmetic operations.\")\n",
        "\n",
        "# Assistant node\n",
        "def assistant(state: MessagesState) -> MessagesState:\n",
        "    return {\"messages\": [llm_with_tools.invoke([sys_msg] + state[\"messages\"])]}\n"
      ],
      "metadata": {
        "id": "l8eSNVpIZtUu"
      },
      "execution_count": 28,
      "outputs": []
    },
    {
      "cell_type": "code",
      "source": [
        "# Initialize memory checkpointer\n",
        "memory = MemorySaver()\n",
        "\n",
        "# Build the graph\n",
        "builder = StateGraph(MessagesState)\n",
        "\n",
        "# Add nodes\n",
        "builder.add_node(\"assistant\", assistant)\n",
        "builder.add_node(\"tools\", ToolNode(tools))\n",
        "\n",
        "# Define edges\n",
        "builder.add_edge(START, \"assistant\")\n",
        "builder.add_conditional_edges(\n",
        "    \"assistant\",\n",
        "    tools_condition,  # Route to tools if a tool call is detected\n",
        ")\n",
        "builder.add_edge(\"tools\", \"assistant\")  # Loop back to assistant\n",
        "builder.add_edge(\"assistant\", END)  # End if no tool call is detected\n",
        "\n",
        "# Compile the graph with memory\n",
        "react_graph_memory = builder.compile(checkpointer=memory)\n"
      ],
      "metadata": {
        "id": "1-GRPEeNZzPX"
      },
      "execution_count": 29,
      "outputs": []
    },
    {
      "cell_type": "code",
      "source": [
        "# Display the graph structure\n",
        "display(Image(react_graph_memory.get_graph(xray=True).draw_mermaid_png()))\n"
      ],
      "metadata": {
        "colab": {
          "base_uri": "https://localhost:8080/",
          "height": 266
        },
        "id": "KaBVgGH-Z4BU",
        "outputId": "15002581-440b-407a-dbbd-5c0d04daddea"
      },
      "execution_count": 30,
      "outputs": [
        {
          "output_type": "display_data",
          "data": {
            "image/png": "[encoded data removed]",
            "text/plain": [
              "<IPython.core.display.Image object>"
            ]
          },
          "metadata": {}
        }
      ]
    },
    {
      "cell_type": "code",
      "source": [
        "# Specify thread ID for persistent memory\n",
        "config1 = {\"configurable\": {\"thread_id\": \"1\"}}\n",
        "\n",
        "# First interaction\n",
        "messages = [HumanMessage(content=\"Add 3 and 4.\")]\n",
        "messages = react_graph_memory.invoke({\"messages\": messages}, config1)\n",
        "\n",
        "# Display the response\n",
        "for msg in messages['messages']:\n",
        "    msg.pretty_print()\n"
      ],
      "metadata": {
        "colab": {
          "base_uri": "https://localhost:8080/"
        },
        "id": "y8kgN_mcaCcK",
        "outputId": "ef3188e9-9944-4137-c8b0-9bb94f04b74f"
      },
      "execution_count": 31,
      "outputs": [
        {
          "output_type": "stream",
          "name": "stdout",
          "text": [
            "================================\u001b[1m Human Message \u001b[0m=================================\n",
            "\n",
            "Add 3 and 4.\n",
            "==================================\u001b[1m Ai Message \u001b[0m==================================\n",
            "Tool Calls:\n",
            "  add (21d82eb1-c035-4673-a8eb-7058a0c724ae)\n",
            " Call ID: 21d82eb1-c035-4673-a8eb-7058a0c724ae\n",
            "  Args:\n",
            "    a: 3.0\n",
            "    b: 4.0\n",
            "=================================\u001b[1m Tool Message \u001b[0m=================================\n",
            "Name: add\n",
            "\n",
            "7\n",
            "==================================\u001b[1m Ai Message \u001b[0m==================================\n",
            "\n",
            "The sum of 3 and 4 is 7.\n"
          ]
        }
      ]
    },
    {
      "cell_type": "code",
      "source": [
        "# Second interaction in the same thread\n",
        "messages = [HumanMessage(content=\"Multiply that by 2.\")]\n",
        "messages = react_graph_memory.invoke({\"messages\": messages}, config1)\n",
        "\n",
        "# Display the response\n",
        "for msg in messages['messages']:\n",
        "    msg.pretty_print()\n"
      ],
      "metadata": {
        "colab": {
          "base_uri": "https://localhost:8080/"
        },
        "id": "RwzuZFpiaIGz",
        "outputId": "6c6c4a83-9ea1-48b6-8317-b7e57c4ff3c2"
      },
      "execution_count": 32,
      "outputs": [
        {
          "output_type": "stream",
          "name": "stdout",
          "text": [
            "================================\u001b[1m Human Message \u001b[0m=================================\n",
            "\n",
            "Add 3 and 4.\n",
            "==================================\u001b[1m Ai Message \u001b[0m==================================\n",
            "Tool Calls:\n",
            "  add (21d82eb1-c035-4673-a8eb-7058a0c724ae)\n",
            " Call ID: 21d82eb1-c035-4673-a8eb-7058a0c724ae\n",
            "  Args:\n",
            "    a: 3.0\n",
            "    b: 4.0\n",
            "=================================\u001b[1m Tool Message \u001b[0m=================================\n",
            "Name: add\n",
            "\n",
            "7\n",
            "==================================\u001b[1m Ai Message \u001b[0m==================================\n",
            "\n",
            "The sum of 3 and 4 is 7.\n",
            "================================\u001b[1m Human Message \u001b[0m=================================\n",
            "\n",
            "Multiply that by 2.\n",
            "==================================\u001b[1m Ai Message \u001b[0m==================================\n",
            "Tool Calls:\n",
            "  multiply (4806fbaf-35ef-4536-ace2-7578d4a6d067)\n",
            " Call ID: 4806fbaf-35ef-4536-ace2-7578d4a6d067\n",
            "  Args:\n",
            "    a: 7.0\n",
            "    b: 2.0\n",
            "=================================\u001b[1m Tool Message \u001b[0m=================================\n",
            "Name: multiply\n",
            "\n",
            "14\n",
            "==================================\u001b[1m Ai Message \u001b[0m==================================\n",
            "\n",
            "The result is 14.\n"
          ]
        }
      ]
    },
    {
      "cell_type": "code",
      "source": [
        "# Second interaction in the same thread\n",
        "messages = [HumanMessage(content=\"Add 2 in the result\")]\n",
        "messages = react_graph_memory.invoke({\"messages\": messages}, config1)\n",
        "\n",
        "# Display the response\n",
        "for msg in messages['messages']:\n",
        "    msg.pretty_print()\n"
      ],
      "metadata": {
        "colab": {
          "base_uri": "https://localhost:8080/"
        },
        "id": "fv2MMgCFaRvZ",
        "outputId": "c5d24632-0ca3-4bca-c139-6e46ea987612"
      },
      "execution_count": 34,
      "outputs": [
        {
          "output_type": "stream",
          "name": "stdout",
          "text": [
            "================================\u001b[1m Human Message \u001b[0m=================================\n",
            "\n",
            "Add 3 and 4.\n",
            "==================================\u001b[1m Ai Message \u001b[0m==================================\n",
            "Tool Calls:\n",
            "  add (21d82eb1-c035-4673-a8eb-7058a0c724ae)\n",
            " Call ID: 21d82eb1-c035-4673-a8eb-7058a0c724ae\n",
            "  Args:\n",
            "    a: 3.0\n",
            "    b: 4.0\n",
            "=================================\u001b[1m Tool Message \u001b[0m=================================\n",
            "Name: add\n",
            "\n",
            "7\n",
            "==================================\u001b[1m Ai Message \u001b[0m==================================\n",
            "\n",
            "The sum of 3 and 4 is 7.\n",
            "================================\u001b[1m Human Message \u001b[0m=================================\n",
            "\n",
            "Multiply that by 2.\n",
            "==================================\u001b[1m Ai Message \u001b[0m==================================\n",
            "Tool Calls:\n",
            "  multiply (4806fbaf-35ef-4536-ace2-7578d4a6d067)\n",
            " Call ID: 4806fbaf-35ef-4536-ace2-7578d4a6d067\n",
            "  Args:\n",
            "    a: 7.0\n",
            "    b: 2.0\n",
            "=================================\u001b[1m Tool Message \u001b[0m=================================\n",
            "Name: multiply\n",
            "\n",
            "14\n",
            "==================================\u001b[1m Ai Message \u001b[0m==================================\n",
            "\n",
            "The result is 14.\n",
            "================================\u001b[1m Human Message \u001b[0m=================================\n",
            "\n",
            "Hi.\n",
            "==================================\u001b[1m Ai Message \u001b[0m==================================\n",
            "\n",
            "Hello! How can I help you?\n",
            "================================\u001b[1m Human Message \u001b[0m=================================\n",
            "\n",
            "Add 2 in the result\n",
            "==================================\u001b[1m Ai Message \u001b[0m==================================\n",
            "Tool Calls:\n",
            "  add (3764496e-5ec5-41a3-8000-0fa440adeab7)\n",
            " Call ID: 3764496e-5ec5-41a3-8000-0fa440adeab7\n",
            "  Args:\n",
            "    a: 14.0\n",
            "    b: 2.0\n",
            "=================================\u001b[1m Tool Message \u001b[0m=================================\n",
            "Name: add\n",
            "\n",
            "16\n",
            "==================================\u001b[1m Ai Message \u001b[0m==================================\n",
            "\n",
            "The new result is 16.\n"
          ]
        }
      ]
    }
  ]
}